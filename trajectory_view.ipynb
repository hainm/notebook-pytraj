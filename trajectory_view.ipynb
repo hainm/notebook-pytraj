{
 "cells": [
  {
   "cell_type": "code",
   "execution_count": 1,
   "metadata": {
    "collapsed": false
   },
   "outputs": [
    {
     "data": {
      "text/plain": [
       "<pytraj.Trajectory, 38 frames, include:\n",
       "<Topology: 304 atoms, 20 residues, 1 mols, PBC with box type = ortho>>\n",
       "           "
      ]
     },
     "execution_count": 1,
     "metadata": {},
     "output_type": "execute_result"
    }
   ],
   "source": [
    "# load pytraj\n",
    "import pytraj as pt\n",
    "\n",
    "# load some trajectory\n",
    "traj = pt.load_pdb_rcsb('1L2Y')\n",
    "traj"
   ]
  },
  {
   "cell_type": "code",
   "execution_count": 2,
   "metadata": {
    "collapsed": false
   },
   "outputs": [
    {
     "data": {
      "application/javascript": [
       "$(\"head\").append($(\"<link/>\").attr({\n",
       "  rel:  \"stylesheet\",\n",
       "  type: \"text/css\",\n",
       "  href: \"//lab.jakiestfu.com/contextjs/context.standalone.css\"\n",
       "}));\n",
       "\n",
       "require.config({\n",
       "    paths: {\n",
       "        'three': '//cdnjs.cloudflare.com/ajax/libs/three.js/r68/three.min',\n",
       "        'iview' : '/nbextensions/mdview/iview',\n",
       "        'surface' : '/nbextensions/mdview/surface.min',\n",
       "        'objexporter' : '/nbextensions/mdview/objexporter',\n",
       "        'filesaver' : '/nbextensions/mdview/filesaver',\n",
       "        'jqueryui': '//ajax.googleapis.com/ajax/libs/jqueryui/1.11.1/jquery-ui.min',\n",
       "        'contextmenu': '/nbextensions/mdview/context',\n",
       "    },\n",
       "    shim: {\n",
       "        three: {\n",
       "            exports: 'THREE'\n",
       "        },\n",
       "        iview: {\n",
       "            deps: ['three', 'surface'],\n",
       "            exports: 'iview'\n",
       "        },\n",
       "        surface: {\n",
       "            exports: 'ProteinSurface'\n",
       "        },\n",
       "        objexporter: {\n",
       "            deps: ['three'],\n",
       "            exports: 'THREE.OBJExporter'\n",
       "        },\n",
       "        jqueryui: {\n",
       "            exports: \"$\"\n",
       "        },\n",
       "        contextmenu: {\n",
       "            deps: ['jquery'],\n",
       "            exports: \"context\"\n",
       "        },\n",
       "    },\n",
       "});\n"
      ],
      "text/plain": [
       "<IPython.core.display.Javascript object>"
      ]
     },
     "metadata": {},
     "output_type": "display_data"
    }
   ],
   "source": [
    "# load TrajectoryView\n",
    "from mdview import TrajectoryView, enable_notebook\n",
    "enable_notebook()"
   ]
  },
  {
   "cell_type": "code",
   "execution_count": 3,
   "metadata": {
    "collapsed": false
   },
   "outputs": [],
   "source": [
    "TrajectoryView(traj, backend='pytraj', primaryStructure='stick', secondaryStructure='ribbon')"
   ]
  }
 ],
 "metadata": {
  "kernelspec": {
   "display_name": "Python 3",
   "language": "python",
   "name": "python3"
  },
  "language_info": {
   "codemirror_mode": {
    "name": "ipython",
    "version": 3
   },
   "file_extension": ".py",
   "mimetype": "text/x-python",
   "name": "python",
   "nbconvert_exporter": "python",
   "pygments_lexer": "ipython3",
   "version": "3.4.3"
  }
 },
 "nbformat": 4,
 "nbformat_minor": 0
}
