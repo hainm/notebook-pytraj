{
 "cells": [
  {
   "cell_type": "markdown",
   "metadata": {},
   "source": [
    "[check pytraj website for more code examples](http://amber-md.github.io/pytraj/)"
   ]
  },
  {
   "cell_type": "code",
   "execution_count": 1,
   "metadata": {
    "collapsed": true
   },
   "outputs": [],
   "source": [
    "# try it your self\n",
    "# make sure to click 'Cell', then 'Run All' to initilize pytraj.\n",
    "# enter the command or modify below code and then Shift-Enter to run."
   ]
  },
  {
   "cell_type": "code",
   "execution_count": 2,
   "metadata": {
    "collapsed": false
   },
   "outputs": [],
   "source": [
    "%matplotlib inline\n",
    "\n",
    "import pytraj as pt"
   ]
  },
  {
   "cell_type": "code",
   "execution_count": 3,
   "metadata": {
    "collapsed": false
   },
   "outputs": [
    {
     "name": "stdout",
     "output_type": "stream",
     "text": [
      "lysozyme.mdcrd\t tz2.nc        tz2.ortho.parm7\r\n",
      "lysozyme.prmtop  tz2.ortho.nc  tz2.parm7\r\n"
     ]
    }
   ],
   "source": [
    "!ls ./data"
   ]
  },
  {
   "cell_type": "code",
   "execution_count": 4,
   "metadata": {
    "collapsed": true
   },
   "outputs": [],
   "source": [
    "traj = pt.iterload('lysozyme.mdcrd', 'lysozyme.prmtop')"
   ]
  },
  {
   "cell_type": "code",
   "execution_count": 5,
   "metadata": {
    "collapsed": false
   },
   "outputs": [
    {
     "name": "stdout",
     "output_type": "stream",
     "text": [
      "<pytraj.TrajectoryIterator, 200 frames, include:\n",
      "<Topology: 1960 atoms, 129 residues, 1 mols, non-PBC>>\n",
      "           \n"
     ]
    }
   ],
   "source": [
    "print(traj)"
   ]
  },
  {
   "cell_type": "code",
   "execution_count": 6,
   "metadata": {
    "collapsed": false
   },
   "outputs": [
    {
     "data": {
      "text/plain": [
       "array([ 14.21385988,  14.29338811,  14.36196037, ...,  14.17920482,\n",
       "        14.22669114,  14.21764279])"
      ]
     },
     "execution_count": 6,
     "metadata": {},
     "output_type": "execute_result"
    }
   ],
   "source": [
    "pt.radgyr(traj)"
   ]
  },
  {
   "cell_type": "code",
   "execution_count": 7,
   "metadata": {
    "collapsed": false
   },
   "outputs": [
    {
     "name": "stdout",
     "output_type": "stream",
     "text": [
      "[(24, 25), (40, 41), (60, 61), (67, 68), (91, 92), (101, 102), (116, 117), (135, 136), (145, 146), (155, 156)]\n"
     ]
    }
   ],
   "source": [
    "# calulate lysozyme S2 order paramter\n",
    "\n",
    "\n",
    "# select H (backbone) indices. Need to provide corresponding Topology and mask\n",
    "h = pt.select_atoms(traj.top, '@H')\n",
    "n = h - 1\n",
    "# create atom pairs\n",
    "nh = list(zip(n, h))\n",
    "print(nh[:10])\n",
    "\n",
    "# calulate S2\n",
    "S2 = pt.NH_order_parameters(traj, nh)"
   ]
  },
  {
   "cell_type": "code",
   "execution_count": 8,
   "metadata": {
    "collapsed": false
   },
   "outputs": [
    {
     "data": {
      "text/plain": [
       "[<matplotlib.lines.Line2D at 0x2aaad4a17b00>]"
      ]
     },
     "execution_count": 8,
     "metadata": {},
     "output_type": "execute_result"
    },
    {
     "data": {
      "image/png": "[encoded data removed]",
      "text/plain": [
       "<matplotlib.figure.Figure at 0x2aaad4711c18>"
      ]
     },
     "metadata": {},
     "output_type": "display_data"
    }
   ],
   "source": [
    "# plot\n",
    "from matplotlib import pyplot as plt\n",
    "plt.plot(S2)"
   ]
  }
 ],
 "metadata": {
  "kernelspec": {
   "display_name": "Python 3",
   "language": "python",
   "name": "python3"
  },
  "language_info": {
   "codemirror_mode": {
    "name": "ipython",
    "version": 3
   },
   "file_extension": ".py",
   "mimetype": "text/x-python",
   "name": "python",
   "nbconvert_exporter": "python",
   "pygments_lexer": "ipython3",
   "version": "3.4.3"
  }
 },
 "nbformat": 4,
 "nbformat_minor": 0
}
