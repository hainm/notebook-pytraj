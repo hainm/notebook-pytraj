{
 "cells": [
  {
   "cell_type": "markdown",
   "metadata": {},
   "source": [
    "# Using Jupyter notebook for interactive development\n",
    "\n",
    "    url: http://jupyter.org/\n",
    "    \n",
    "![](./main-logo-jupyter.svg)"
   ]
  },
  {
   "cell_type": "markdown",
   "metadata": {},
   "source": [
    "# How to run this notebook?\n",
    "\n",
    "Click **Cell** and then **Run All**\n",
    "\n",
    "# How to run it online? \n",
    "www.mybinder.org/hainm/pytraj-notebooks (phenix talk - Hai Nguyen)"
   ]
  },
  {
   "cell_type": "markdown",
   "metadata": {},
   "source": [
    "## Install\n",
    "\n",
    "```bash\n",
    "conda install parmed -c ambermd # Python package for topology editing and force field development\n",
    "conda install pytraj-dev -c ambermd # Python interface for cpptraj (MD trajectory data analysis)\n",
    "conda install pysander -c ambermd # Python interface for SANDER\n",
    "# all above will be also available in AMBER16 release (next few months)\n",
    "\n",
    "conda install nglview -c ambermd # Protein/DNA/RAN viewer in notebook\n",
    "\n",
    "# notebook\n",
    "conda install jupyter notebook\n",
    "\n",
    "```"
   ]
  },
  {
   "cell_type": "markdown",
   "metadata": {},
   "source": [
    "## ParmEd: Cross-program parameter and topology file editor and molecular mechanical simulator engine.\n",
    "    \n",
    "    url: https://github.com/ParmEd/ParmEd (AMBER16)"
   ]
  },
  {
   "cell_type": "code",
   "execution_count": 29,
   "metadata": {
    "collapsed": false
   },
   "outputs": [
    {
     "data": {
      "text/plain": [
       "['SER',\n",
       " 'TRP',\n",
       " 'THR',\n",
       " 'TRP',\n",
       " 'GLU',\n",
       " 'ASN',\n",
       " 'GLY',\n",
       " 'LYS',\n",
       " 'TRP',\n",
       " 'THR',\n",
       " 'TRP',\n",
       " 'LYS',\n",
       " 'NME']"
      ]
     },
     "execution_count": 29,
     "metadata": {},
     "output_type": "execute_result"
    }
   ],
   "source": [
    "import warnings\n",
    "warnings.filterwarnings(\"ignore\", category=DeprecationWarning) \n",
    "\n",
    "import parmed as pmd\n",
    "\n",
    "x = pmd.load_file('tz2.pdb')\n",
    "[res.name for res in x.residues]"
   ]
  },
  {
   "cell_type": "code",
   "execution_count": 30,
   "metadata": {
    "collapsed": false
   },
   "outputs": [
    {
     "data": {
      "text/plain": [
       "['N', 'H1', 'H2', 'H3', 'CA', 'HA', 'CB', 'HB2', 'HB3', 'OG', 'HG', 'C', 'O']"
      ]
     },
     "execution_count": 30,
     "metadata": {},
     "output_type": "execute_result"
    }
   ],
   "source": [
    "[atom.name for atom in x.residues[0]]"
   ]
  },
  {
   "cell_type": "markdown",
   "metadata": {},
   "source": [
    "## PYTRAJ: Interactive data analysis for molecular dynamics simulations\n",
    "\n",
    "    url: https://github.com/Amber-MD/pytraj (AMBER 16)"
   ]
  },
  {
   "cell_type": "markdown",
   "metadata": {},
   "source": [
    "### Compute distances and plot"
   ]
  },
  {
   "cell_type": "code",
   "execution_count": 31,
   "metadata": {
    "collapsed": false
   },
   "outputs": [
    {
     "data": {
      "text/html": [
       "<div>\n",
       "<table border=\"1\" class=\"dataframe\">\n",
       "  <thead>\n",
       "    <tr style=\"text-align: right;\">\n",
       "      <th></th>\n",
       "      <th>Dis_00000</th>\n",
       "    </tr>\n",
       "  </thead>\n",
       "  <tbody>\n",
       "    <tr>\n",
       "      <th>0</th>\n",
       "      <td>19.596637</td>\n",
       "    </tr>\n",
       "    <tr>\n",
       "      <th>1</th>\n",
       "      <td>17.348018</td>\n",
       "    </tr>\n",
       "    <tr>\n",
       "      <th>2</th>\n",
       "      <td>17.844973</td>\n",
       "    </tr>\n",
       "    <tr>\n",
       "      <th>3</th>\n",
       "      <td>15.645448</td>\n",
       "    </tr>\n",
       "    <tr>\n",
       "      <th>4</th>\n",
       "      <td>14.393131</td>\n",
       "    </tr>\n",
       "  </tbody>\n",
       "</table>\n",
       "</div>"
      ],
      "text/plain": [
       "   Dis_00000\n",
       "0  19.596637\n",
       "1  17.348018\n",
       "2  17.844973\n",
       "3  15.645448\n",
       "4  14.393131"
      ]
     },
     "execution_count": 31,
     "metadata": {},
     "output_type": "execute_result"
    }
   ],
   "source": [
    "import pytraj as pt\n",
    "\n",
    "traj = pt.load('tz2.nc', 'tz2.parm7')\n",
    "distances = pt.distances(traj, ':1 :12', dtype='dataframe')\n",
    "distances.head()"
   ]
  },
  {
   "cell_type": "code",
   "execution_count": 32,
   "metadata": {
    "collapsed": false,
    "scrolled": true
   },
   "outputs": [
    {
     "data": {
      "text/plain": [
       "array([[<matplotlib.axes._subplots.AxesSubplot object at 0x2aaaab87c940>]], dtype=object)"
      ]
     },
     "execution_count": 32,
     "metadata": {},
     "output_type": "execute_result"
    },
    {
     "data": {
      "image/png": "[encoded data removed]",
      "text/plain": [
       "<matplotlib.figure.Figure at 0x2aaaab884240>"
      ]
     },
     "metadata": {},
     "output_type": "display_data"
    }
   ],
   "source": [
    "%matplotlib inline \n",
    "\n",
    "distances.hist()"
   ]
  },
  {
   "cell_type": "markdown",
   "metadata": {},
   "source": [
    "### Energy evaluation with pysander and pytraj"
   ]
  },
  {
   "cell_type": "code",
   "execution_count": 33,
   "metadata": {
    "collapsed": false
   },
   "outputs": [
    {
     "data": {
      "text/html": [
       "<div>\n",
       "<table border=\"1\" class=\"dataframe\">\n",
       "  <thead>\n",
       "    <tr style=\"text-align: right;\">\n",
       "      <th></th>\n",
       "      <th>bond</th>\n",
       "      <th>angle</th>\n",
       "      <th>dihedral</th>\n",
       "      <th>gb</th>\n",
       "    </tr>\n",
       "  </thead>\n",
       "  <tbody>\n",
       "    <tr>\n",
       "      <th>0</th>\n",
       "      <td>0.015314</td>\n",
       "      <td>128.545148</td>\n",
       "      <td>111.611329</td>\n",
       "      <td>-412.532664</td>\n",
       "    </tr>\n",
       "    <tr>\n",
       "      <th>1</th>\n",
       "      <td>0.013582</td>\n",
       "      <td>105.064945</td>\n",
       "      <td>105.392413</td>\n",
       "      <td>-400.090422</td>\n",
       "    </tr>\n",
       "    <tr>\n",
       "      <th>2</th>\n",
       "      <td>0.012521</td>\n",
       "      <td>103.520284</td>\n",
       "      <td>93.030850</td>\n",
       "      <td>-439.927013</td>\n",
       "    </tr>\n",
       "    <tr>\n",
       "      <th>3</th>\n",
       "      <td>0.016334</td>\n",
       "      <td>94.560780</td>\n",
       "      <td>105.522288</td>\n",
       "      <td>-400.956276</td>\n",
       "    </tr>\n",
       "    <tr>\n",
       "      <th>4</th>\n",
       "      <td>0.013338</td>\n",
       "      <td>99.508124</td>\n",
       "      <td>105.850222</td>\n",
       "      <td>-404.061030</td>\n",
       "    </tr>\n",
       "  </tbody>\n",
       "</table>\n",
       "</div>"
      ],
      "text/plain": [
       "       bond       angle    dihedral          gb\n",
       "0  0.015314  128.545148  111.611329 -412.532664\n",
       "1  0.013582  105.064945  105.392413 -400.090422\n",
       "2  0.012521  103.520284   93.030850 -439.927013\n",
       "3  0.016334   94.560780  105.522288 -400.956276\n",
       "4  0.013338   99.508124  105.850222 -404.061030"
      ]
     },
     "execution_count": 33,
     "metadata": {},
     "output_type": "execute_result"
    }
   ],
   "source": [
    "energies = pt.energy_decomposition(traj, prmtop='tz2.parm7', dtype='dataframe')\n",
    "energies[['bond', 'angle', 'dihedral', 'gb']].head() # kcal/mol\n",
    "\n",
    "# gb: implicit solvation energy"
   ]
  },
  {
   "cell_type": "markdown",
   "metadata": {},
   "source": [
    "### get help?"
   ]
  },
  {
   "cell_type": "code",
   "execution_count": 34,
   "metadata": {
    "collapsed": false
   },
   "outputs": [
    {
     "name": "stdout",
     "output_type": "stream",
     "text": [
      "Help on function energy_decomposition in module pytraj.externals.energy:\n",
      "\n",
      "energy_decomposition(traj=None, prmtop=None, igb=8, mm_options=None, qm_options=None, mode=None, dtype='dict', frame_indices=None, top=None)\n",
      "    energy decomposition by calling `libsander`\n",
      "    \n",
      "    Parameters\n",
      "    ----------\n",
      "    traj : Trajectory-like or iterables that produce Frame\n",
      "        if `traj` does not hold Topology information, `top` must be provided\n",
      "    prmtop : str or Structure from ParmEd, default=None, optional\n",
      "        To avoid any unexpected error, you should always provide original topology\n",
      "        filename. If prmtop is None, pytraj will load Topology from traj.top.filename.\n",
      "    \n",
      "        - why do you need to load additional topology filename? Because cpptraj and sander\n",
      "          use different Topology object, can not convert from one to another.\n",
      "    igb : GB model, default=8 (GB-Neck2)\n",
      "        If specify `mm_options`, this `igb` input will be ignored\n",
      "    mm_options : InputOptions from `sander`, default=None, optional\n",
      "        if `mm_options` is None, use `gas_input` with given igb.\n",
      "        If `mm_options` is not None, use this\n",
      "    qm_options : InputOptions from `sander` for QMMM, optional\n",
      "    mode : str, default=None, optional\n",
      "        if mode='minimal', get only 'bond', 'angle', 'dihedral' and 'total' energies\n",
      "    top : pytraj.Topology or str, default=None, optional\n",
      "        only need to specify this ``top`` if ``traj`` does not hold Topology\n",
      "    dtype : str, {'dict', 'dataset', 'ndarray', 'dataframe'}, default='dict'\n",
      "        return data type\n",
      "    frame_indices : None or 1D array-like, default None\n",
      "        if not None, only perform calculation for given frames\n",
      "    \n",
      "    Returns\n",
      "    -------\n",
      "    Dict of energies (to be used with DataFrame) or DatasetList\n",
      "    \n",
      "    Examples\n",
      "    --------\n",
      "    Examples are adapted from $AMBERHOME/test/sanderapi\n",
      "    \n",
      "    >>> import pytraj as pt\n",
      "    >>> # GB energy\n",
      "    >>> traj = pt.datafiles.load_ala3()\n",
      "    >>> traj.n_frames\n",
      "    1\n",
      "    >>> data = pt.energy_decomposition(traj, igb=8)\n",
      "    >>> data['gb']\n",
      "    array([-92.88577683])\n",
      "    >>> data['bond']\n",
      "    array([ 5.59350521])\n",
      "    \n",
      "    >>> # PME\n",
      "    >>> import os\n",
      "    >>> from pytraj.testing import amberhome\n",
      "    >>> import sander\n",
      "    >>> topfile = os.path.join(amberhome, \"test/4096wat/prmtop\")\n",
      "    >>> rstfile = os.path.join(amberhome, \"test/4096wat/eq1.x\")\n",
      "    >>> traj = pt.iterload(rstfile, topfile)\n",
      "    >>> options = sander.pme_input()\n",
      "    >>> options.cut = 8.0\n",
      "    >>> edict = pt.energy_decomposition(traj=traj, mm_options=options)\n",
      "    >>> edict['vdw']\n",
      "    array([ 6028.95167558])\n",
      "    \n",
      "    >>> # GB + QMMM\n",
      "    >>> topfile = os.path.join(amberhome, \"test/qmmm2/lysine_PM3_qmgb2/prmtop\")\n",
      "    >>> rstfile = os.path.join(amberhome, \"test/qmmm2/lysine_PM3_qmgb2/lysine.crd\")\n",
      "    >>> traj = pt.iterload(rstfile, topfile)\n",
      "    \n",
      "    >>> options = sander.gas_input(8)\n",
      "    >>> options.cut = 99.0\n",
      "    >>> options.ifqnt = 1\n",
      "    >>> qm_options = sander.qm_input()\n",
      "    >>> qm_options.iqmatoms[:3] = [8, 9, 10]\n",
      "    >>> qm_options.qm_theory = \"PM3\"\n",
      "    >>> qm_options.qmcharge = 0\n",
      "    >>> qm_options.qmgb = 2\n",
      "    >>> qm_options.adjust_q = 0\n",
      "    \n",
      "    >>> edict = pt.energy_decomposition(traj=traj, mm_options=options, qm_options=qm_options)\n",
      "    >>> edict['bond']\n",
      "    array([ 0.00160733])\n",
      "    >>> edict['scf']\n",
      "    array([-11.92177575])\n",
      "    \n",
      "    Notes\n",
      "    -----\n",
      "    This method does not work with `pytraj.pmap` when you specify mm_options and\n",
      "    qm_options. Use `pytraj.pmap_mpi` with MPI instead.\n",
      "    \n",
      "    Work with ``pytraj.pmap``::\n",
      "    \n",
      "        pt.pmap(pt.energy_decomposition, traj, igb=8, dtype='dict')\n",
      "    \n",
      "    Will NOT work with ``pytraj.pmap``::\n",
      "    \n",
      "        import sander\n",
      "        inp = sander.gas_input(8)\n",
      "        pt.pmap(pt.energy_decomposition, traj, mm_options=inp, dtype='dict')\n",
      "    \n",
      "    Why? Because Python need to pickle each object to send to different cores and Python\n",
      "    does not know how to pickle mm_options from sander.gas_input(8).\n",
      "    \n",
      "    This works with ``pytraj.pmap_mpi`` because pytraj explicitly create ``mm_options``\n",
      "    in each core without pickling.\n",
      "\n"
     ]
    }
   ],
   "source": [
    "help(pt.energy_decomposition)"
   ]
  },
  {
   "cell_type": "markdown",
   "metadata": {},
   "source": [
    "### Compute multiple dihedrals"
   ]
  },
  {
   "cell_type": "code",
   "execution_count": 35,
   "metadata": {
    "collapsed": false
   },
   "outputs": [
    {
     "data": {
      "text/html": [
       "<div>\n",
       "<table border=\"1\" class=\"dataframe\">\n",
       "  <thead>\n",
       "    <tr style=\"text-align: right;\">\n",
       "      <th></th>\n",
       "      <th>psi_1</th>\n",
       "      <th>phi_2</th>\n",
       "      <th>psi_2</th>\n",
       "      <th>chip_2</th>\n",
       "      <th>omega_2</th>\n",
       "      <th>phi_3</th>\n",
       "      <th>psi_3</th>\n",
       "      <th>omega_3</th>\n",
       "    </tr>\n",
       "  </thead>\n",
       "  <tbody>\n",
       "    <tr>\n",
       "      <th>0</th>\n",
       "      <td>-86.697506</td>\n",
       "      <td>-52.781235</td>\n",
       "      <td>-37.458655</td>\n",
       "      <td>-167.770537</td>\n",
       "      <td>-170.555872</td>\n",
       "      <td>-79.867366</td>\n",
       "      <td>117.355933</td>\n",
       "      <td>-179.707558</td>\n",
       "    </tr>\n",
       "    <tr>\n",
       "      <th>1</th>\n",
       "      <td>-91.159994</td>\n",
       "      <td>-40.620800</td>\n",
       "      <td>-41.199817</td>\n",
       "      <td>-178.620425</td>\n",
       "      <td>177.860923</td>\n",
       "      <td>-120.154899</td>\n",
       "      <td>108.983575</td>\n",
       "      <td>-178.763975</td>\n",
       "    </tr>\n",
       "    <tr>\n",
       "      <th>2</th>\n",
       "      <td>-67.937422</td>\n",
       "      <td>-51.215481</td>\n",
       "      <td>-49.467222</td>\n",
       "      <td>-179.101253</td>\n",
       "      <td>160.530607</td>\n",
       "      <td>-52.189986</td>\n",
       "      <td>132.574742</td>\n",
       "      <td>164.425577</td>\n",
       "    </tr>\n",
       "  </tbody>\n",
       "</table>\n",
       "</div>"
      ],
      "text/plain": [
       "       psi_1      phi_2      psi_2      chip_2     omega_2       phi_3  \\\n",
       "0 -86.697506 -52.781235 -37.458655 -167.770537 -170.555872  -79.867366   \n",
       "1 -91.159994 -40.620800 -41.199817 -178.620425  177.860923 -120.154899   \n",
       "2 -67.937422 -51.215481 -49.467222 -179.101253  160.530607  -52.189986   \n",
       "\n",
       "        psi_3     omega_3  \n",
       "0  117.355933 -179.707558  \n",
       "1  108.983575 -178.763975  \n",
       "2  132.574742  164.425577  "
      ]
     },
     "execution_count": 35,
     "metadata": {},
     "output_type": "execute_result"
    }
   ],
   "source": [
    "dihedrals = pt.multidihedral(traj, resrange='1-3', dtype='dataframe')\n",
    "dihedrals.head(3) # show only first 3 snapshots"
   ]
  },
  {
   "cell_type": "code",
   "execution_count": 36,
   "metadata": {
    "collapsed": false
   },
   "outputs": [
    {
     "data": {
      "text/plain": [
       "(-180, 180)"
      ]
     },
     "execution_count": 36,
     "metadata": {},
     "output_type": "execute_result"
    },
    {
     "data": {
      "image/png": "[encoded data removed]",
      "text/plain": [
       "<matplotlib.figure.Figure at 0x2aaadfdc2780>"
      ]
     },
     "metadata": {},
     "output_type": "display_data"
    }
   ],
   "source": [
    "%matplotlib inline\n",
    "\n",
    "from matplotlib import pyplot as plt\n",
    "\n",
    "plt.plot(dihedrals['phi_2'], dihedrals['psi_2'], '-bo', linewidth=0)\n",
    "plt.xlim([-180, 180])\n",
    "plt.ylim([-180, 180])"
   ]
  },
  {
   "cell_type": "markdown",
   "metadata": {},
   "source": [
    "## Protein/DNA/RNA viewer in notebook\n",
    "\n",
    "- Written in Python/Javascript\n",
    "- super light  (~3 MB)\n",
    "- super easy to install (pip install nglview)"
   ]
  },
  {
   "cell_type": "code",
   "execution_count": 37,
   "metadata": {
    "collapsed": false
   },
   "outputs": [],
   "source": [
    "import warnings\n",
    "warnings.filterwarnings('ignore')\n",
    "\n",
    "import nglview as nv\n",
    "view = nv.show_pytraj(traj)\n",
    "view"
   ]
  },
  {
   "cell_type": "code",
   "execution_count": 38,
   "metadata": {
    "collapsed": false
   },
   "outputs": [],
   "source": [
    "view.representations = []\n",
    "view.add_representation('cartoon', color='residueindex')\n",
    "view.add_representation('licorice')"
   ]
  },
  {
   "cell_type": "code",
   "execution_count": 39,
   "metadata": {
    "collapsed": false
   },
   "outputs": [],
   "source": [
    "t0 = pt.fetch_pdb('3pqr')\n",
    "view0 = pt.view.to_nglview(t0)\n",
    "view0"
   ]
  },
  {
   "cell_type": "code",
   "execution_count": 40,
   "metadata": {
    "collapsed": true
   },
   "outputs": [],
   "source": [
    "view0.representations = []\n",
    "view0.add_representation('cartoon', selection='protein', color='residueindex')\n",
    "view0.add_representation('surface', selection='protein', opacity=0.2)"
   ]
  },
  {
   "cell_type": "markdown",
   "metadata": {},
   "source": [
    "### Not yet ported to Python\n",
    "\n",
    "![](./ngl_cpp4.png)"
   ]
  },
  {
   "cell_type": "markdown",
   "metadata": {},
   "source": [
    "## Phenix wishlist (for developers)\n",
    "\n",
    "- phenix.conda install jupyter notebook\n",
    "- phenix.ipython"
   ]
  }
 ],
 "metadata": {
  "kernelspec": {
   "display_name": "Python 3",
   "language": "python",
   "name": "python3"
  },
  "language_info": {
   "codemirror_mode": {
    "name": "ipython",
    "version": 3
   },
   "file_extension": ".py",
   "mimetype": "text/x-python",
   "name": "python",
   "nbconvert_exporter": "python",
   "pygments_lexer": "ipython3",
   "version": "3.5.1"
  }
 },
 "nbformat": 4,
 "nbformat_minor": 0
}
