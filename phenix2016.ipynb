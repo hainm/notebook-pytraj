{
 "cells": [
  {
   "cell_type": "markdown",
   "metadata": {},
   "source": [
    "# Using Jupyter notebook for interactive development\n",
    "\n",
    "    url: http://jupyter.org/\n",
    "    \n",
    "![](./main-logo-jupyter.svg)"
   ]
  },
  {
   "cell_type": "markdown",
   "metadata": {},
   "source": [
    "## Install\n",
    "\n",
    "```bash\n",
    "conda install parmed -c ambermd # Python package for topology editing and force field development\n",
    "conda install pytraj-dev -c ambermd # Python interface for cpptraj (MD trajectory data analysis)\n",
    "conda install pysander -c ambermd # Python interface for SANDER\n",
    "# all above will be also available in AMBER16 release (next few months)\n",
    "\n",
    "conda install nglview -c ambermd # Protein/DNA/RAN viewer in notebook\n",
    "\n",
    "conda install jupyter notebook # notebook\n",
    "\n",
    "```"
   ]
  },
  {
   "cell_type": "markdown",
   "metadata": {},
   "source": [
    "## ParmEd: Cross-program parameter and topology file editor and molecular mechanical simulator engine.\n",
    "    \n",
    "    url: https://github.com/ParmEd/ParmEd (AMBER16)"
   ]
  },
  {
   "cell_type": "code",
   "execution_count": 3,
   "metadata": {
    "collapsed": false
   },
   "outputs": [
    {
     "ename": "OSError",
     "evalue": "tz2.pdb does not exist",
     "output_type": "error",
     "traceback": [
      "\u001b[1;31m---------------------------------------------------------------------------\u001b[0m",
      "\u001b[1;31mOSError\u001b[0m                                   Traceback (most recent call last)",
      "\u001b[1;32m<ipython-input-3-ce554b8039af>\u001b[0m in \u001b[0;36m<module>\u001b[1;34m()\u001b[0m\n\u001b[0;32m      3\u001b[0m \u001b[1;32mimport\u001b[0m \u001b[0mparmed\u001b[0m \u001b[1;32mas\u001b[0m \u001b[0mpmd\u001b[0m\u001b[1;33m\u001b[0m\u001b[0m\n\u001b[0;32m      4\u001b[0m \u001b[1;33m\u001b[0m\u001b[0m\n\u001b[1;32m----> 5\u001b[1;33m \u001b[0mx\u001b[0m \u001b[1;33m=\u001b[0m \u001b[0mpmd\u001b[0m\u001b[1;33m.\u001b[0m\u001b[0mload_file\u001b[0m\u001b[1;33m(\u001b[0m\u001b[1;34m'tz2.pdb'\u001b[0m\u001b[1;33m)\u001b[0m\u001b[1;33m\u001b[0m\u001b[0m\n\u001b[0m\u001b[0;32m      6\u001b[0m \u001b[1;33m[\u001b[0m\u001b[0mres\u001b[0m\u001b[1;33m.\u001b[0m\u001b[0mname\u001b[0m \u001b[1;32mfor\u001b[0m \u001b[0mres\u001b[0m \u001b[1;32min\u001b[0m \u001b[0mx\u001b[0m\u001b[1;33m.\u001b[0m\u001b[0mresidues\u001b[0m\u001b[1;33m]\u001b[0m\u001b[1;33m\u001b[0m\u001b[0m\n",
      "\u001b[1;32m/home/haichit/.local/lib/python3.5/site-packages/parmed/formats/registry.py\u001b[0m in \u001b[0;36mload_file\u001b[1;34m(filename, *args, **kwargs)\u001b[0m\n\u001b[0;32m    120\u001b[0m             \u001b[1;32massert\u001b[0m \u001b[0mf\u001b[0m\u001b[1;33m\u001b[0m\u001b[0m\n\u001b[0;32m    121\u001b[0m     \u001b[1;32melif\u001b[0m \u001b[1;32mnot\u001b[0m \u001b[0mos\u001b[0m\u001b[1;33m.\u001b[0m\u001b[0mpath\u001b[0m\u001b[1;33m.\u001b[0m\u001b[0mexists\u001b[0m\u001b[1;33m(\u001b[0m\u001b[0mfilename\u001b[0m\u001b[1;33m)\u001b[0m\u001b[1;33m:\u001b[0m\u001b[1;33m\u001b[0m\u001b[0m\n\u001b[1;32m--> 122\u001b[1;33m         \u001b[1;32mraise\u001b[0m \u001b[0mIOError\u001b[0m\u001b[1;33m(\u001b[0m\u001b[1;34m'%s does not exist'\u001b[0m \u001b[1;33m%\u001b[0m \u001b[0mfilename\u001b[0m\u001b[1;33m)\u001b[0m\u001b[1;33m\u001b[0m\u001b[0m\n\u001b[0m\u001b[0;32m    123\u001b[0m     \u001b[1;32melif\u001b[0m \u001b[1;32mnot\u001b[0m \u001b[0mos\u001b[0m\u001b[1;33m.\u001b[0m\u001b[0maccess\u001b[0m\u001b[1;33m(\u001b[0m\u001b[0mfilename\u001b[0m\u001b[1;33m,\u001b[0m \u001b[0mos\u001b[0m\u001b[1;33m.\u001b[0m\u001b[0mR_OK\u001b[0m\u001b[1;33m)\u001b[0m\u001b[1;33m:\u001b[0m\u001b[1;33m\u001b[0m\u001b[0m\n\u001b[0;32m    124\u001b[0m         \u001b[1;32mraise\u001b[0m \u001b[0mIOError\u001b[0m\u001b[1;33m(\u001b[0m\u001b[1;34m'%s does not have read permissions set'\u001b[0m \u001b[1;33m%\u001b[0m \u001b[0mfilename\u001b[0m\u001b[1;33m)\u001b[0m\u001b[1;33m\u001b[0m\u001b[0m\n",
      "\u001b[1;31mOSError\u001b[0m: tz2.pdb does not exist"
     ]
    }
   ],
   "source": [
    "import warnings\n",
    "warnings.filterwarnings('ignore')\n",
    "import parmed as pmd\n",
    "\n",
    "x = pmd.load_file('tz2.pdb')\n",
    "[res.name for res in x.residues]"
   ]
  },
  {
   "cell_type": "code",
   "execution_count": 16,
   "metadata": {
    "collapsed": false
   },
   "outputs": [
    {
     "data": {
      "text/plain": [
       "['N', 'H1', 'H2', 'H3', 'CA', 'HA', 'CB', 'HB2', 'HB3', 'OG', 'HG', 'C', 'O']"
      ]
     },
     "execution_count": 16,
     "metadata": {},
     "output_type": "execute_result"
    }
   ],
   "source": [
    "[atom.name for atom in x.residues[0]]"
   ]
  },
  {
   "cell_type": "markdown",
   "metadata": {},
   "source": [
    "## PYTRAJ: Interactive data analysis for molecular dynamics simulations\n",
    "\n",
    "    url: https://github.com/Amber-MD/pytraj (AMBER 16)"
   ]
  },
  {
   "cell_type": "code",
   "execution_count": 4,
   "metadata": {
    "collapsed": false
   },
   "outputs": [
    {
     "ename": "ValueError",
     "evalue": "<None> is a wrong input. Can not use `None` or string type",
     "output_type": "error",
     "traceback": [
      "\u001b[1;31m---------------------------------------------------------------------------\u001b[0m",
      "\u001b[1;31mValueError\u001b[0m                                Traceback (most recent call last)",
      "\u001b[1;32m<ipython-input-4-8e12ad978278>\u001b[0m in \u001b[0;36m<module>\u001b[1;34m()\u001b[0m\n\u001b[0;32m      2\u001b[0m \u001b[1;33m\u001b[0m\u001b[0m\n\u001b[0;32m      3\u001b[0m \u001b[0mtraj\u001b[0m \u001b[1;33m=\u001b[0m \u001b[0mpt\u001b[0m\u001b[1;33m.\u001b[0m\u001b[0mload\u001b[0m\u001b[1;33m(\u001b[0m\u001b[1;34m'tz2.nc'\u001b[0m\u001b[1;33m,\u001b[0m \u001b[1;34m'tz2.parm7'\u001b[0m\u001b[1;33m)\u001b[0m\u001b[1;33m[\u001b[0m\u001b[1;33m:\u001b[0m\u001b[1;36m1\u001b[0m\u001b[1;33m]\u001b[0m\u001b[1;33m.\u001b[0m\u001b[0msave\u001b[0m\u001b[1;33m(\u001b[0m\u001b[1;34m'tz2.pdb'\u001b[0m\u001b[1;33m)\u001b[0m\u001b[1;33m\u001b[0m\u001b[0m\n\u001b[1;32m----> 4\u001b[1;33m \u001b[0mdistances\u001b[0m \u001b[1;33m=\u001b[0m \u001b[0mpt\u001b[0m\u001b[1;33m.\u001b[0m\u001b[0mdistances\u001b[0m\u001b[1;33m(\u001b[0m\u001b[0mtraj\u001b[0m\u001b[1;33m,\u001b[0m \u001b[1;34m':1 :12'\u001b[0m\u001b[1;33m,\u001b[0m \u001b[0mdtype\u001b[0m\u001b[1;33m=\u001b[0m\u001b[1;34m'dataframe'\u001b[0m\u001b[1;33m)\u001b[0m\u001b[1;33m\u001b[0m\u001b[0m\n\u001b[0m\u001b[0;32m      5\u001b[0m \u001b[0mdistances\u001b[0m\u001b[1;33m.\u001b[0m\u001b[0mhead\u001b[0m\u001b[1;33m(\u001b[0m\u001b[1;33m)\u001b[0m\u001b[1;33m\u001b[0m\u001b[0m\n",
      "\u001b[1;32m/u1/haichit/pytraj_git/pytraj/pytraj/decorators.py\u001b[0m in \u001b[0;36minner\u001b[1;34m(*args, **kwd)\u001b[0m\n\u001b[0;32m      9\u001b[0m     \u001b[1;33m@\u001b[0m\u001b[0mwraps\u001b[0m\u001b[1;33m(\u001b[0m\u001b[0mf\u001b[0m\u001b[1;33m)\u001b[0m\u001b[1;33m\u001b[0m\u001b[0m\n\u001b[0;32m     10\u001b[0m     \u001b[1;32mdef\u001b[0m \u001b[0minner\u001b[0m\u001b[1;33m(\u001b[0m\u001b[1;33m*\u001b[0m\u001b[0margs\u001b[0m\u001b[1;33m,\u001b[0m \u001b[1;33m**\u001b[0m\u001b[0mkwd\u001b[0m\u001b[1;33m)\u001b[0m\u001b[1;33m:\u001b[0m\u001b[1;33m\u001b[0m\u001b[0m\n\u001b[1;32m---> 11\u001b[1;33m         \u001b[1;32mreturn\u001b[0m \u001b[0mf\u001b[0m\u001b[1;33m(\u001b[0m\u001b[1;33m*\u001b[0m\u001b[0margs\u001b[0m\u001b[1;33m,\u001b[0m \u001b[1;33m**\u001b[0m\u001b[0mkwd\u001b[0m\u001b[1;33m)\u001b[0m\u001b[1;33m\u001b[0m\u001b[0m\n\u001b[0m\u001b[0;32m     12\u001b[0m \u001b[1;33m\u001b[0m\u001b[0m\n\u001b[0;32m     13\u001b[0m     \u001b[0minner\u001b[0m\u001b[1;33m.\u001b[0m\u001b[0m_is_parallelizable\u001b[0m \u001b[1;33m=\u001b[0m \u001b[1;32mTrue\u001b[0m\u001b[1;33m\u001b[0m\u001b[0m\n",
      "\u001b[1;32m/u1/haichit/pytraj_git/pytraj/pytraj/all_actions.py\u001b[0m in \u001b[0;36mcalc_distance\u001b[1;34m(traj, mask, frame_indices, dtype, top, image, n_frames)\u001b[0m\n\u001b[0;32m    143\u001b[0m     \u001b[1;33m>>\u001b[0m\u001b[1;33m>\u001b[0m \u001b[0mdist\u001b[0m \u001b[1;33m=\u001b[0m \u001b[0mpt\u001b[0m\u001b[1;33m.\u001b[0m\u001b[0mdistance\u001b[0m\u001b[1;33m(\u001b[0m\u001b[0mtraj\u001b[0m\u001b[1;33m,\u001b[0m \u001b[1;33m[\u001b[0m\u001b[1;33m[\u001b[0m\u001b[1;36m1\u001b[0m\u001b[1;33m,\u001b[0m \u001b[1;36m5\u001b[0m\u001b[1;33m]\u001b[0m\u001b[1;33m,\u001b[0m \u001b[1;33m[\u001b[0m\u001b[1;36m4\u001b[0m\u001b[1;33m,\u001b[0m \u001b[1;36m10\u001b[0m\u001b[1;33m]\u001b[0m\u001b[1;33m]\u001b[0m\u001b[1;33m)\u001b[0m\u001b[1;33m\u001b[0m\u001b[0m\n\u001b[0;32m    144\u001b[0m     \"\"\"\n\u001b[1;32m--> 145\u001b[1;33m     \u001b[0mensure_not_none_or_string\u001b[0m\u001b[1;33m(\u001b[0m\u001b[0mtraj\u001b[0m\u001b[1;33m)\u001b[0m\u001b[1;33m\u001b[0m\u001b[0m\n\u001b[0m\u001b[0;32m    146\u001b[0m     \u001b[0mcommand\u001b[0m \u001b[1;33m=\u001b[0m \u001b[0mmask\u001b[0m\u001b[1;33m\u001b[0m\u001b[0m\n\u001b[0;32m    147\u001b[0m \u001b[1;33m\u001b[0m\u001b[0m\n",
      "\u001b[1;32m/u1/haichit/pytraj_git/pytraj/pytraj/utils/check_and_assert.py\u001b[0m in \u001b[0;36mensure_not_none_or_string\u001b[1;34m(obj)\u001b[0m\n\u001b[0;32m     95\u001b[0m     \u001b[0mmsg\u001b[0m \u001b[1;33m=\u001b[0m \u001b[1;34m\"<%s> is a wrong input. Can not use `None` or string type\"\u001b[0m \u001b[1;33m%\u001b[0m \u001b[0mname\u001b[0m\u001b[1;33m\u001b[0m\u001b[0m\n\u001b[0;32m     96\u001b[0m     \u001b[1;32mif\u001b[0m \u001b[0mobj\u001b[0m \u001b[1;32mis\u001b[0m \u001b[1;32mNone\u001b[0m \u001b[1;32mor\u001b[0m \u001b[0misinstance\u001b[0m\u001b[1;33m(\u001b[0m\u001b[0mobj\u001b[0m\u001b[1;33m,\u001b[0m \u001b[0mstring_types\u001b[0m\u001b[1;33m)\u001b[0m\u001b[1;33m:\u001b[0m\u001b[1;33m\u001b[0m\u001b[0m\n\u001b[1;32m---> 97\u001b[1;33m         \u001b[1;32mraise\u001b[0m \u001b[0mValueError\u001b[0m\u001b[1;33m(\u001b[0m\u001b[0mmsg\u001b[0m\u001b[1;33m)\u001b[0m\u001b[1;33m\u001b[0m\u001b[0m\n\u001b[0m\u001b[0;32m     98\u001b[0m \u001b[1;33m\u001b[0m\u001b[0m\n\u001b[0;32m     99\u001b[0m \u001b[1;33m\u001b[0m\u001b[0m\n",
      "\u001b[1;31mValueError\u001b[0m: <None> is a wrong input. Can not use `None` or string type"
     ]
    }
   ],
   "source": [
    "import pytraj as pt\n",
    "\n",
    "traj = pt.load('tz2.nc', 'tz2.parm7')[:1].save('tz2.pdb')\n",
    "distances = pt.distances(traj, ':1 :12', dtype='dataframe')\n",
    "distances.head()"
   ]
  },
  {
   "cell_type": "code",
   "execution_count": 14,
   "metadata": {
    "collapsed": false
   },
   "outputs": [
    {
     "data": {
      "text/plain": [
       "array([[<matplotlib.axes._subplots.AxesSubplot object at 0x7f18f00b8be0>]], dtype=object)"
      ]
     },
     "execution_count": 14,
     "metadata": {},
     "output_type": "execute_result"
    },
    {
     "data": {
      "image/png": "[encoded data removed]",
      "text/plain": [
       "<matplotlib.figure.Figure at 0x7f1906c8b5c0>"
      ]
     },
     "metadata": {},
     "output_type": "display_data"
    }
   ],
   "source": [
    "%matplotlib inline \n",
    "\n",
    "distances.hist()"
   ]
  },
  {
   "cell_type": "code",
   "execution_count": 5,
   "metadata": {
    "collapsed": false
   },
   "outputs": [
    {
     "data": {
      "text/html": [
       "<div>\n",
       "<table border=\"1\" class=\"dataframe\">\n",
       "  <thead>\n",
       "    <tr style=\"text-align: right;\">\n",
       "      <th></th>\n",
       "      <th>bond</th>\n",
       "      <th>angle</th>\n",
       "      <th>dihedral</th>\n",
       "      <th>gb</th>\n",
       "    </tr>\n",
       "  </thead>\n",
       "  <tbody>\n",
       "    <tr>\n",
       "      <th>0</th>\n",
       "      <td>0.015314</td>\n",
       "      <td>128.545148</td>\n",
       "      <td>111.611329</td>\n",
       "      <td>-412.532664</td>\n",
       "    </tr>\n",
       "    <tr>\n",
       "      <th>1</th>\n",
       "      <td>0.013582</td>\n",
       "      <td>105.064945</td>\n",
       "      <td>105.392413</td>\n",
       "      <td>-400.090422</td>\n",
       "    </tr>\n",
       "    <tr>\n",
       "      <th>2</th>\n",
       "      <td>0.012521</td>\n",
       "      <td>103.520284</td>\n",
       "      <td>93.030850</td>\n",
       "      <td>-439.927013</td>\n",
       "    </tr>\n",
       "    <tr>\n",
       "      <th>3</th>\n",
       "      <td>0.016334</td>\n",
       "      <td>94.560780</td>\n",
       "      <td>105.522288</td>\n",
       "      <td>-400.956276</td>\n",
       "    </tr>\n",
       "    <tr>\n",
       "      <th>4</th>\n",
       "      <td>0.013338</td>\n",
       "      <td>99.508124</td>\n",
       "      <td>105.850222</td>\n",
       "      <td>-404.061030</td>\n",
       "    </tr>\n",
       "  </tbody>\n",
       "</table>\n",
       "</div>"
      ],
      "text/plain": [
       "       bond       angle    dihedral          gb\n",
       "0  0.015314  128.545148  111.611329 -412.532664\n",
       "1  0.013582  105.064945  105.392413 -400.090422\n",
       "2  0.012521  103.520284   93.030850 -439.927013\n",
       "3  0.016334   94.560780  105.522288 -400.956276\n",
       "4  0.013338   99.508124  105.850222 -404.061030"
      ]
     },
     "execution_count": 5,
     "metadata": {},
     "output_type": "execute_result"
    }
   ],
   "source": [
    "energies = pt.energy_decomposition(traj, prmtop='tz2.parm7', dtype='dataframe')\n",
    "energies[['bond', 'angle', 'dihedral', 'gb']].head() # kcal/mol\n",
    "\n",
    "# gb: implicit solvation energy"
   ]
  },
  {
   "cell_type": "code",
   "execution_count": 6,
   "metadata": {
    "collapsed": true
   },
   "outputs": [
    {
     "name": "stdout",
     "output_type": "stream",
     "text": [
      "Help on function energy_decomposition in module pytraj.externals.energy:\n",
      "\n",
      "energy_decomposition(traj=None, prmtop=None, igb=8, mm_options=None, qm_options=None, mode=None, dtype='dict', frame_indices=None, top=None)\n",
      "    energy decomposition by calling `libsander`\n",
      "    \n",
      "    Parameters\n",
      "    ----------\n",
      "    traj : Trajectory-like or iterables that produce Frame\n",
      "        if `traj` does not hold Topology information, `top` must be provided\n",
      "    prmtop : str or Structure from ParmEd, default=None, optional\n",
      "        To avoid any unexpected error, you should always provide original topology\n",
      "        filename. If prmtop is None, pytraj will load Topology from traj.top.filename.\n",
      "    \n",
      "        - why do you need to load additional topology filename? Because cpptraj and sander\n",
      "          use different Topology object, can not convert from one to another.\n",
      "    igb : GB model, default=8 (GB-Neck2)\n",
      "        If specify `mm_options`, this `igb` input will be ignored\n",
      "    mm_options : InputOptions from `sander`, default=None, optional\n",
      "        if `mm_options` is None, use `gas_input` with given igb.\n",
      "        If `mm_options` is not None, use this\n",
      "    qm_options : InputOptions from `sander` for QMMM, optional\n",
      "    mode : str, default=None, optional\n",
      "        if mode='minimal', get only 'bond', 'angle', 'dihedral' and 'total' energies\n",
      "    top : pytraj.Topology or str, default=None, optional\n",
      "        only need to specify this ``top`` if ``traj`` does not hold Topology\n",
      "    dtype : str, {'dict', 'dataset', 'ndarray', 'dataframe'}, default='dict'\n",
      "        return data type\n",
      "    frame_indices : None or 1D array-like, default None\n",
      "        if not None, only perform calculation for given frames\n",
      "    \n",
      "    Returns\n",
      "    -------\n",
      "    Dict of energies (to be used with DataFrame) or DatasetList\n",
      "    \n",
      "    Examples\n",
      "    --------\n",
      "    Examples are adapted from $AMBERHOME/test/sanderapi\n",
      "    \n",
      "    >>> import pytraj as pt\n",
      "    >>> # GB energy\n",
      "    >>> traj = pt.datafiles.load_ala3()\n",
      "    >>> traj.n_frames\n",
      "    1\n",
      "    >>> data = pt.energy_decomposition(traj, igb=8)\n",
      "    >>> data['gb']\n",
      "    array([-92.88577683])\n",
      "    >>> data['bond']\n",
      "    array([ 5.59350521])\n",
      "    \n",
      "    >>> # PME\n",
      "    >>> import os\n",
      "    >>> from pytraj.testing import amberhome\n",
      "    >>> import sander\n",
      "    >>> topfile = os.path.join(amberhome, \"test/4096wat/prmtop\")\n",
      "    >>> rstfile = os.path.join(amberhome, \"test/4096wat/eq1.x\")\n",
      "    >>> traj = pt.iterload(rstfile, topfile)\n",
      "    >>> options = sander.pme_input()\n",
      "    >>> options.cut = 8.0\n",
      "    >>> edict = pt.energy_decomposition(traj=traj, mm_options=options)\n",
      "    >>> edict['vdw']\n",
      "    array([ 6028.95167558])\n",
      "    \n",
      "    >>> # GB + QMMM\n",
      "    >>> topfile = os.path.join(amberhome, \"test/qmmm2/lysine_PM3_qmgb2/prmtop\")\n",
      "    >>> rstfile = os.path.join(amberhome, \"test/qmmm2/lysine_PM3_qmgb2/lysine.crd\")\n",
      "    >>> traj = pt.iterload(rstfile, topfile)\n",
      "    \n",
      "    >>> options = sander.gas_input(8)\n",
      "    >>> options.cut = 99.0\n",
      "    >>> options.ifqnt = 1\n",
      "    >>> qm_options = sander.qm_input()\n",
      "    >>> qm_options.iqmatoms[:3] = [8, 9, 10]\n",
      "    >>> qm_options.qm_theory = \"PM3\"\n",
      "    >>> qm_options.qmcharge = 0\n",
      "    >>> qm_options.qmgb = 2\n",
      "    >>> qm_options.adjust_q = 0\n",
      "    \n",
      "    >>> edict = pt.energy_decomposition(traj=traj, mm_options=options, qm_options=qm_options)\n",
      "    >>> edict['bond']\n",
      "    array([ 0.00160733])\n",
      "    >>> edict['scf']\n",
      "    array([-11.92177575])\n",
      "    \n",
      "    Notes\n",
      "    -----\n",
      "    This method does not work with `pytraj.pmap` when you specify mm_options and\n",
      "    qm_options. Use `pytraj.pmap_mpi` with MPI instead.\n",
      "    \n",
      "    Work with ``pytraj.pmap``::\n",
      "    \n",
      "        pt.pmap(pt.energy_decomposition, traj, igb=8, dtype='dict')\n",
      "    \n",
      "    Will NOT work with ``pytraj.pmap``::\n",
      "    \n",
      "        import sander\n",
      "        inp = sander.gas_input(8)\n",
      "        pt.pmap(pt.energy_decomposition, traj, mm_options=inp, dtype='dict')\n",
      "    \n",
      "    Why? Because Python need to pickle each object to send to different cores and Python\n",
      "    does not know how to pickle mm_options from sander.gas_input(8).\n",
      "    \n",
      "    This works with ``pytraj.pmap_mpi`` because pytraj explicitly create ``mm_options``\n",
      "    in each core without pickling.\n",
      "\n"
     ]
    }
   ],
   "source": [
    "help(pt.energy_decomposition)"
   ]
  },
  {
   "cell_type": "code",
   "execution_count": 7,
   "metadata": {
    "collapsed": false
   },
   "outputs": [
    {
     "data": {
      "text/html": [
       "<div>\n",
       "<table border=\"1\" class=\"dataframe\">\n",
       "  <thead>\n",
       "    <tr style=\"text-align: right;\">\n",
       "      <th></th>\n",
       "      <th>psi_1</th>\n",
       "      <th>phi_2</th>\n",
       "      <th>psi_2</th>\n",
       "      <th>chip_2</th>\n",
       "      <th>omega_2</th>\n",
       "      <th>phi_3</th>\n",
       "      <th>psi_3</th>\n",
       "      <th>omega_3</th>\n",
       "    </tr>\n",
       "  </thead>\n",
       "  <tbody>\n",
       "    <tr>\n",
       "      <th>0</th>\n",
       "      <td>-86.697506</td>\n",
       "      <td>-52.781235</td>\n",
       "      <td>-37.458655</td>\n",
       "      <td>-167.770537</td>\n",
       "      <td>-170.555872</td>\n",
       "      <td>-79.867366</td>\n",
       "      <td>117.355933</td>\n",
       "      <td>-179.707558</td>\n",
       "    </tr>\n",
       "    <tr>\n",
       "      <th>1</th>\n",
       "      <td>-91.159994</td>\n",
       "      <td>-40.620800</td>\n",
       "      <td>-41.199817</td>\n",
       "      <td>-178.620425</td>\n",
       "      <td>177.860923</td>\n",
       "      <td>-120.154899</td>\n",
       "      <td>108.983575</td>\n",
       "      <td>-178.763975</td>\n",
       "    </tr>\n",
       "    <tr>\n",
       "      <th>2</th>\n",
       "      <td>-67.937422</td>\n",
       "      <td>-51.215481</td>\n",
       "      <td>-49.467222</td>\n",
       "      <td>-179.101253</td>\n",
       "      <td>160.530607</td>\n",
       "      <td>-52.189986</td>\n",
       "      <td>132.574742</td>\n",
       "      <td>164.425577</td>\n",
       "    </tr>\n",
       "  </tbody>\n",
       "</table>\n",
       "</div>"
      ],
      "text/plain": [
       "       psi_1      phi_2      psi_2      chip_2     omega_2       phi_3  \\\n",
       "0 -86.697506 -52.781235 -37.458655 -167.770537 -170.555872  -79.867366   \n",
       "1 -91.159994 -40.620800 -41.199817 -178.620425  177.860923 -120.154899   \n",
       "2 -67.937422 -51.215481 -49.467222 -179.101253  160.530607  -52.189986   \n",
       "\n",
       "        psi_3     omega_3  \n",
       "0  117.355933 -179.707558  \n",
       "1  108.983575 -178.763975  \n",
       "2  132.574742  164.425577  "
      ]
     },
     "execution_count": 7,
     "metadata": {},
     "output_type": "execute_result"
    }
   ],
   "source": [
    "dihedrals = pt.multidihedral(traj, resrange='1-3', dtype='dataframe')\n",
    "dihedrals.head(3)"
   ]
  },
  {
   "cell_type": "code",
   "execution_count": 8,
   "metadata": {
    "collapsed": false
   },
   "outputs": [
    {
     "data": {
      "text/plain": [
       "(-180, 180)"
      ]
     },
     "execution_count": 8,
     "metadata": {},
     "output_type": "execute_result"
    },
    {
     "data": {
      "image/png": "[encoded data removed]",
      "text/plain": [
       "<matplotlib.figure.Figure at 0x7f19095b2fd0>"
      ]
     },
     "metadata": {},
     "output_type": "display_data"
    }
   ],
   "source": [
    "%matplotlib inline\n",
    "\n",
    "from matplotlib import pyplot as plt\n",
    "\n",
    "plt.plot(dihedrals['phi_2'], dihedrals['psi_2'], '-bo', linewidth=0)\n",
    "plt.xlim([-180, 180])\n",
    "plt.ylim([-180, 180])"
   ]
  },
  {
   "cell_type": "markdown",
   "metadata": {},
   "source": [
    "## Protein/DNA/RNA viewer in notebook"
   ]
  },
  {
   "cell_type": "code",
   "execution_count": 9,
   "metadata": {
    "collapsed": false
   },
   "outputs": [],
   "source": [
    "import warnings\n",
    "warnings.filterwarnings('ignore')\n",
    "\n",
    "import nglview as nv\n",
    "view = nv.show_pytraj(traj)\n",
    "view"
   ]
  },
  {
   "cell_type": "code",
   "execution_count": 10,
   "metadata": {
    "collapsed": false
   },
   "outputs": [],
   "source": [
    "view.representations = []\n",
    "view.add_representation('cartoon', color='residueindex')\n",
    "view.add_representation('licorice')"
   ]
  },
  {
   "cell_type": "code",
   "execution_count": 11,
   "metadata": {
    "collapsed": false
   },
   "outputs": [],
   "source": [
    "t0 = pt.fetch_pdb('3pqr')\n",
    "view0 = pt.view.to_nglview(t0)\n",
    "view0"
   ]
  },
  {
   "cell_type": "code",
   "execution_count": 15,
   "metadata": {
    "collapsed": true
   },
   "outputs": [],
   "source": [
    "view0.representations = []\n",
    "view0.add_representation('cartoon', selection='protein', color='residueindex')\n",
    "view0.add_representation('licorice', selection='not protein')"
   ]
  },
  {
   "cell_type": "markdown",
   "metadata": {},
   "source": [
    "## Auto-doc generation\n",
    "\n",
    "(other slides)"
   ]
  },
  {
   "cell_type": "markdown",
   "metadata": {},
   "source": [
    "## Phenix wishlist\n",
    "\n",
    "- phenix.conda install jupyter notebook\n",
    "- phenix.conda install ipython\n",
    "- phenix.conda install pandas\n",
    "- phenix.jupyter notebook\n",
    "- phenix.ipython"
   ]
  }
 ],
 "metadata": {
  "kernelspec": {
   "display_name": "Python 3",
   "language": "python",
   "name": "python3"
  },
  "language_info": {
   "codemirror_mode": {
    "name": "ipython",
    "version": 3
   },
   "file_extension": ".py",
   "mimetype": "text/x-python",
   "name": "python",
   "nbconvert_exporter": "python",
   "pygments_lexer": "ipython3",
   "version": "3.5.1"
  }
 },
 "nbformat": 4,
 "nbformat_minor": 0
}
