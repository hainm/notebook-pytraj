{
 "cells": [
  {
   "cell_type": "markdown",
   "metadata": {},
   "source": [
    "# See also\n",
    "\n",
    "[protein animation with matplotlib](animation_link_to_mpl.ipynb)\n",
    "\n",
    "# Developments (two different APIs)\n",
    "\n",
    "- https://github.com/hainm/nglview (used in this demo)\n",
    "- https://github.com/arose/nglview"
   ]
  },
  {
   "cell_type": "markdown",
   "metadata": {},
   "source": [
    "# How to run\n",
    "\n",
    "Click **Cell** and then **Run All**"
   ]
  },
  {
   "cell_type": "code",
   "execution_count": 48,
   "metadata": {
    "collapsed": false
   },
   "outputs": [
    {
     "data": {
      "text/plain": [
       "<nglview.Trajectory at 0x2aaad2406208>"
      ]
     },
     "execution_count": 48,
     "metadata": {},
     "output_type": "execute_result"
    }
   ],
   "source": [
    "import pytraj.view as view\n",
    "import pytraj as pt\n",
    "import nglview as nv\n",
    "\n",
    "t0 = pt.fetch_pdb('3pqr')\n",
    "traj = view.to_nglview(t0)\n",
    "traj"
   ]
  },
  {
   "cell_type": "code",
   "execution_count": 49,
   "metadata": {
    "collapsed": true
   },
   "outputs": [],
   "source": [
    "tv = nv.TrajectoryViewer(traj)\n",
    "tv"
   ]
  },
  {
   "cell_type": "code",
   "execution_count": 50,
   "metadata": {
    "collapsed": false
   },
   "outputs": [],
   "source": [
    "tv.representations = []\n",
    "tv._add_representation('all', 'cartoon', color='residueindex')\n",
    "# tv._add_representation('all', 'tube', color='residueindex')\n",
    "# see also: http://arose.github.io/ngl/doc/#User_manual/Usage/Molecular_representations\n",
    "\n",
    "tv.rotate_speed = 7.\n",
    "tv.parameters = {'zoomSpeed': 10.}"
   ]
  }
 ],
 "metadata": {
  "kernelspec": {
   "display_name": "Python 3",
   "language": "python",
   "name": "python3"
  },
  "language_info": {
   "codemirror_mode": {
    "name": "ipython",
    "version": 3
   },
   "file_extension": ".py",
   "mimetype": "text/x-python",
   "name": "python",
   "nbconvert_exporter": "python",
   "pygments_lexer": "ipython3",
   "version": "3.4.3"
  }
 },
 "nbformat": 4,
 "nbformat_minor": 0
}
