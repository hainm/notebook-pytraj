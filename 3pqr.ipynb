{
 "cells": [
  {
   "cell_type": "markdown",
   "metadata": {},
   "source": [
    "# See also\n",
    "\n",
    "[protein animation with matplotlib](animation_link_to_mpl.ipynb)\n",
    "\n",
    "# Developments (two different APIs)\n",
    "\n",
    "- https://github.com/hainm/nglview (used in this demo)\n",
    "- https://github.com/arose/nglview"
   ]
  },
  {
   "cell_type": "markdown",
   "metadata": {},
   "source": [
    "# How to run\n",
    "\n",
    "Click **Cell** and then **Run All**"
   ]
  },
  {
   "cell_type": "code",
   "execution_count": 1,
   "metadata": {
    "collapsed": false
   },
   "outputs": [],
   "source": [
    "import pytraj.view as view\n",
    "import pytraj as pt\n",
    "import nglview as nv\n",
    "\n",
    "t0 = pt.fetch_pdb('3pqr')\n",
    "view = view.to_nglview(t0)\n",
    "view"
   ]
  },
  {
   "cell_type": "code",
   "execution_count": 2,
   "metadata": {
    "collapsed": true
   },
   "outputs": [],
   "source": [
    "view.representations = []\n",
    "view.add_representation('cartoon', color='residueindex')"
   ]
  }
 ],
 "metadata": {
  "kernelspec": {
   "display_name": "Python 3",
   "language": "python",
   "name": "python3"
  },
  "language_info": {
   "codemirror_mode": {
    "name": "ipython",
    "version": 3
   },
   "file_extension": ".py",
   "mimetype": "text/x-python",
   "name": "python",
   "nbconvert_exporter": "python",
   "pygments_lexer": "ipython3",
   "version": "3.5.1"
  }
 },
 "nbformat": 4,
 "nbformat_minor": 0
}
