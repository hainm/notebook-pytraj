{
 "cells": [
  {
   "cell_type": "markdown",
   "metadata": {},
   "source": [
    "# How to view this notebook?\n",
    "- click **Cell** then **Run All**"
   ]
  },
  {
   "cell_type": "code",
   "execution_count": 1,
   "metadata": {
    "collapsed": false
   },
   "outputs": [],
   "source": [
    "import warnings\n",
    "warnings.filterwarnings('ignore')\n",
    "\n",
    "from chemview import TrajectoryViewer"
   ]
  },
  {
   "cell_type": "code",
   "execution_count": 2,
   "metadata": {
    "collapsed": false
   },
   "outputs": [
    {
     "data": {
      "text/plain": [
       "pytraj.Trajectory, 38 frames: \n",
       "Size: 0.000258 (GB)\n",
       "<Topology: 304 atoms, 20 residues, 1 mols, PBC with box type = ortho>\n",
       "           "
      ]
     },
     "execution_count": 2,
     "metadata": {},
     "output_type": "execute_result"
    }
   ],
   "source": [
    "import pytraj as pt\n",
    "from pytraj.view import to_chemview\n",
    "\n",
    "# fetch pdb, perform superpose to 1st frame, center structure at origin.\n",
    "traj = pt.fetch_pdb('1l2y').transform(['rms first', 'center origin'])\n",
    "traj"
   ]
  },
  {
   "cell_type": "code",
   "execution_count": 5,
   "metadata": {
    "collapsed": false
   },
   "outputs": [],
   "source": [
    "tv = to_chemview(traj)\n",
    "tv.lines()\n",
    "# click play button to play the movie\n",
    "tv"
   ]
  },
  {
   "cell_type": "markdown",
   "metadata": {},
   "source": [
    "### Load a Trajectory from disk"
   ]
  },
  {
   "cell_type": "code",
   "execution_count": 7,
   "metadata": {
    "collapsed": false
   },
   "outputs": [],
   "source": [
    "traj = pt.load('data/lysozyme.mdcrd', 'data/lysozyme.prmtop')\n",
    "traj.strip('@H=').center('origin').superpose('@C,N,O')\n",
    "tv = to_chemview(traj)\n",
    "tv.lines()\n",
    "# click play button to play the movie\n",
    "tv"
   ]
  }
 ],
 "metadata": {
  "kernelspec": {
   "display_name": "Python 3",
   "language": "python",
   "name": "python3"
  },
  "language_info": {
   "codemirror_mode": {
    "name": "ipython",
    "version": 3
   },
   "file_extension": ".py",
   "mimetype": "text/x-python",
   "name": "python",
   "nbconvert_exporter": "python",
   "pygments_lexer": "ipython3",
   "version": "3.5.1"
  }
 },
 "nbformat": 4,
 "nbformat_minor": 0
}
